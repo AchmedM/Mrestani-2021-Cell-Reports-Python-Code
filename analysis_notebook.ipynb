{
 "cells": [
  {
   "cell_type": "markdown",
   "metadata": {},
   "source": [
    "### import necessary modules"
   ]
  },
  {
   "cell_type": "code",
   "execution_count": null,
   "metadata": {},
   "outputs": [],
   "source": [
    "import numpy as np\n",
    "import pandas as pd\n",
    "import matplotlib.pyplot as plt\n",
    "%matplotlib inline\n",
    "import os\n",
    "from skimage import io\n",
    "from astropy.stats import RipleysKEstimator\n",
    "import math\n",
    "\n",
    "from classes import *\n",
    "import alpha_shape\n",
    "from lib2d_py3mod_AM import cms, get_eigenvalues, get_labeled_boutons\n",
    "\n",
    "import warnings\n",
    "warnings.filterwarnings(\"ignore\")"
   ]
  },
  {
   "cell_type": "markdown",
   "metadata": {},
   "source": [
    "### set path to the file to be analyzed; define the clustering parameters and minimum amplitude of localizations\n",
    "#### decide if size filter should be applied"
   ]
  },
  {
   "cell_type": "code",
   "execution_count": null,
   "metadata": {},
   "outputs": [],
   "source": [
    "filename =  './dStorm647_Nc82_8.txt'\n",
    "\n",
    "border=500\n",
    "\n",
    "#set AZ parameters\n",
    "alpha_AZ=800\n",
    "min_cluster_size_AZ=100\n",
    "min_samples_AZ=25\n",
    "\n",
    "#set subcluster parameters\n",
    "alpha_sub=300 \n",
    "min_cluster_size_sub=24\n",
    "min_samples_sub=6\n",
    "cluster_selection_method='leaf'\n",
    "\n",
    "#set minimum A/D count\n",
    "min_amplitude=12000\n",
    "\n",
    "#set size filter True or False\n",
    "size_filter=True"
   ]
  },
  {
   "cell_type": "markdown",
   "metadata": {},
   "source": [
    "### overview function for all boutons in one file\n",
    "#### shows masked boutons and AZ alpha shapes"
   ]
  },
  {
   "cell_type": "code",
   "execution_count": null,
   "metadata": {},
   "outputs": [],
   "source": [
    "def show_overview(filename):\n",
    "   \n",
    "    maskname = filename[:-4]+'_mask.png'\n",
    "    mask_im=io.imread(maskname)\n",
    "    l = get_labeled_boutons(mask_im).T\n",
    "    selection=Selection(filename=filename)\n",
    "    selection.load_data()\n",
    "    selection.get_bins_rapidstorm(spacing=(10,10))\n",
    "    sloc1=selection.get_masked_data(l > 0)\n",
    "    sloc=sloc1.select_between(['Amplitude'],[(min_amplitude,None)])\n",
    "    \n",
    "    # calculate clusters \n",
    "    AZclusters=sloc.get_cluster(kind='HDBSCAN',min_cluster_size=min_cluster_size_AZ,min_samples=min_samples_AZ)\n",
    "    AZclusters.fast_analysis(set_data=1)\n",
    "    \n",
    "    AZclusters.data=AZclusters.data.rename(columns={'x_mean':'x','y_mean':'y'})\n",
    "    \n",
    "    ofig=plt.figure (figsize=(16,16))\n",
    "    cmap = plt.cm.jet\n",
    "    \n",
    "    # iterate the first order clusters(AZ clusters), calculate and plot active zone\n",
    "    for j in AZclusters.indices[1:]:\n",
    "        sel = AZclusters.get_group(j)   \n",
    "        xi,yi=AZclusters._dataframe.loc[j][['x','y']]\n",
    "        if j>=0:\n",
    "            plt.text(x=xi,y=yi,s=str(j+1),fontsize=20,color='k')\n",
    "            pol_AZ = alpha_shape.get_alpha_edges(sel.data[['x', 'y']].values, alpha=alpha_AZ)\n",
    "            alpha_area_AZ = alpha_shape.get_alpha_area(sel.data[['x', 'y']].values, alpha=alpha_AZ)\n",
    "            \n",
    "            # apply size threshold  \n",
    "            # all AZs excluded by the following filters will appear without colored alpha shape in the overview image\n",
    "            if size_filter==True:\n",
    "                if alpha_area_AZ < 30000 or alpha_area_AZ > 300000:\n",
    "                    continue\n",
    "                    \n",
    "            locs_per_AZ=sel.data.shape[0]\n",
    "    \n",
    "            if locs_per_AZ >= 8000:\n",
    "                continue\n",
    "        \n",
    "            AZ_dens=locs_per_AZ/alpha_area_AZ\n",
    "    \n",
    "            if AZ_dens >= 0.06:\n",
    "                continue\n",
    "        \n",
    "            rgba = cmap(float(j)/AZclusters.indices[-1])\n",
    "            plt.plot(*np.array(pol_AZ[:]).T, color=rgba)\n",
    "    \n",
    "    ax=plt.gca()\n",
    "    ax.set_aspect('equal')\n",
    "\n",
    "    plt.title(filename)\n",
    "    \n",
    "    plt.scatter(sloc.data.x,sloc.data.y,s=10,c=\"k\",alpha=.1)\n",
    "\n",
    "    plt.gca().invert_yaxis()"
   ]
  },
  {
   "cell_type": "markdown",
   "metadata": {},
   "source": [
    "### core function for cluster analysis of all AZs in one file"
   ]
  },
  {
   "cell_type": "code",
   "execution_count": null,
   "metadata": {},
   "outputs": [],
   "source": [
    "def analyze_AZs(filename):\n",
    "    \n",
    "    maskname = filename[:-4]+'_mask.png'\n",
    "    name=os.path.split(filename)[1][:-4]\n",
    "    mask_im=io.imread(maskname)\n",
    "    l = get_labeled_boutons(mask_im).T\n",
    "    selection=Selection(filename=filename)\n",
    "    selection.load_data()\n",
    "    selection.get_bins_rapidstorm(spacing=(10,10))\n",
    "    sloc1=selection.get_masked_data(l > 0)\n",
    "    sloc=sloc1.select_between(['Amplitude'],[(min_amplitude,None)])\n",
    "    loc=sloc.data\n",
    "\n",
    "    # calculate AZclusters\n",
    "    AZclusters=sloc.get_cluster(kind='HDBSCAN',min_cluster_size=min_cluster_size_AZ,min_samples=min_samples_AZ)    \n",
    "    AZclusters.fast_analysis(set_data=1)\n",
    "    \n",
    "    # prepare empty list for data of whole file\n",
    "    subloc=[]\n",
    "    \n",
    "    # iterate the first order clusters(AZ clusters), calculate and plot active zone\n",
    "    for j in AZclusters.indices[1:]:\n",
    "        sel = AZclusters.get_group(j)\n",
    "        \n",
    "        if j>=0:\n",
    "            # calculate and plot alphashape of active Zone\n",
    "            pol_AZ = alpha_shape.get_alpha_edges(sel.data[['x', 'y']].values, alpha=alpha_AZ)\n",
    "            alpha_area_AZ = alpha_shape.get_alpha_area(sel.data[['x', 'y']].values, alpha=alpha_AZ)\n",
    "                \n",
    "        else:\n",
    "            alpha_area_AZ = 0\n",
    "            \n",
    "        # apply size threshold    \n",
    "        if size_filter==True:\n",
    "            if alpha_area_AZ < 30000 or alpha_area_AZ > 300000:\n",
    "                continue\n",
    "        \n",
    "        e1, e2=get_eigenvalues(sel)\n",
    "        circularity=e1/e2\n",
    "        \n",
    "        # prepare plot for single AZ\n",
    "        subfig=plt.figure(figsize=(10,10))\n",
    "        cmap = plt.cm.jet\n",
    "        plt.plot(*np.array(pol_AZ[:]).T, color='k')\n",
    "            \n",
    "        subclusters=sel.get_cluster(kind='HDBSCAN',min_cluster_size=min_cluster_size_sub,min_samples=min_samples_sub,\n",
    "                                   cluster_selection_method=cluster_selection_method)\n",
    "        subclusters.fast_analysis(set_data=1)\n",
    "\n",
    "        # prepare subcluster dataframe\n",
    "        subclusters.data=subclusters.data.rename(columns={'x_mean':'x','y_mean':'y'})\n",
    "        subclusters._dataframe['image name']=os.path.split(selection.filename)[1]\n",
    "        subclusters._dataframe['AZ name']=j+1\n",
    "        subclusters._dataframe['no. of all locs/AZ']=sel.data.shape[0]\n",
    "        subclusters._dataframe['AZ alpha-shape area']=alpha_area_AZ\n",
    "        subclusters._dataframe['sc name']=0\n",
    "        subclusters._dataframe['no. locs/sc']=0\n",
    "        subclusters._dataframe['sc alpha-shape area']=0\n",
    "        subclusters._dataframe['e1']=np.nan\n",
    "        subclusters._dataframe['e2']=np.nan\n",
    "\n",
    "        # iterate the subclusters, calculate and plot active zone \n",
    "        for k in subclusters.indices[0:]:\n",
    "            selc = subclusters.get_group(k)\n",
    "            subclusters._dataframe['sc name'].loc[k]=k+1\n",
    "            subclusters._dataframe['no. locs/sc'].loc[k]=selc.data.shape[0]\n",
    "            xi,yi=subclusters._dataframe.loc[k][['x','y']]\n",
    "            if k>=0:\n",
    "                plt.text(x=xi,y=yi,s=str(k+1),fontsize=20,color='k')\n",
    "                pol_sub = alpha_shape.get_alpha_edges(selc.data[['x', 'y']].values, alpha=alpha_sub)\n",
    "                alpha_area_sub = alpha_shape.get_alpha_area(selc.data[['x', 'y']].values, alpha=alpha_sub)\n",
    "                rgba = cmap(float(k)/subclusters.indices[-1])\n",
    "                plt.plot(*np.array(pol_sub[:]).T, color=rgba)\n",
    "            else:\n",
    "                alpha_area_sub = 0                    \n",
    "\n",
    "            subclusters._dataframe['sc alpha-shape area'].loc[k] = alpha_area_sub\n",
    "            \n",
    "            # calculate circularity\n",
    "            subclusters._dataframe['e1'].loc[k]=e1\n",
    "            subclusters._dataframe['e2'].loc[k]=e2\n",
    "            subclusters._dataframe['circularity']=circularity\n",
    "\n",
    "        # calculate com of all subclusters (=socom)\n",
    "        socom=cms(subclusters.data.iloc[1:])\n",
    "        dist_sc=np.sqrt(np.sum((subclusters.data[['x','y']].values-socom)**2,axis=1))\n",
    "        subclusters._dataframe['rd focom from socom']=dist_sc\n",
    "        subclusters.data=subclusters.data.rename(columns={'x':'focom x coordinate','y':'focom y coordinate'})\n",
    "\n",
    "        # propagate cluster properties to localisations\n",
    "        loc=subclusters.group_to_parent(kdims=subclusters.data.keys())\n",
    "\n",
    "        plt.title('label={}'.format(j+1)+' subclusters={}'.format(subclusters.indices.max()+1)+' circularity={}'.format(circularity))\n",
    "\n",
    "        l_c=sloc.select_between(['x','y'],[((socom[0]-border),(socom[0]+border)),((socom[1]-border),(socom[1]+border))])\n",
    "            \n",
    "        plt.scatter(l_c.data.x,l_c.data.y,s=10,c=\"k\",alpha=.1)\n",
    "            \n",
    "        # plot localizations if no subclusters found\n",
    "        if (subclusters.indices.max()+1)==0:\n",
    "            l_c=loc.loc[(loc[\"AZ name\"]==j+1)]\n",
    "            plt.scatter(l_c['x'],l_c['y'],s=10,c=\"k\",alpha=.1)\n",
    "            \n",
    "        ax=plt.gca()\n",
    "            \n",
    "        ax.set_aspect('equal')\n",
    "            \n",
    "        # plot socom\n",
    "        plt.scatter(*socom,s=500,c='k',marker='x',linewidths=2)\n",
    "\n",
    "        plt.gca().invert_yaxis()\n",
    "\n",
    "        plt.show()\n",
    "        #subfig.savefig((os.path.join(resultsfolder,name))+'_group{}'.format(group)+'_AZ{}'.format(j+1)+'.jpg', dpi=50)\n",
    "\n",
    "        # sort values\n",
    "        loc['no. of sc per AZ']=subclusters.indices.max()+1 \n",
    "        loc=loc.sort_values(by='sc name').rename(columns={'x':'loc x coordinate','y':'loc y coordinate'})\n",
    "        loc['AZ dens']=(loc['no. of all locs/AZ']/loc['AZ alpha-shape area'])*1000000\n",
    "        loc=loc[[u'image name',u'AZ name',u'no. of all locs/AZ','AZ dens','Amplitude','circularity',u'sc name',\n",
    "                 u'no. locs/sc','no. of sc per AZ','sc alpha-shape area','AZ alpha-shape area',u'rd focom from socom']]\n",
    "            \n",
    "        subloc.append(loc)\n",
    "    \n",
    "    return subloc\n",
    "    "
   ]
  },
  {
   "cell_type": "markdown",
   "metadata": {},
   "source": [
    "### core function for ripley analysis of all AZs in one file"
   ]
  },
  {
   "cell_type": "code",
   "execution_count": null,
   "metadata": {},
   "outputs": [],
   "source": [
    "def analyze_AZs_ripley_H(filename):  \n",
    "   \n",
    "    maskname = filename[:-4]+'_mask.png'\n",
    "    name=os.path.split(filename)[1][:-4]\n",
    "    mask_im=io.imread(maskname)\n",
    "    l = get_labeled_boutons(mask_im).T\n",
    "    selection=Selection(filename=filename)\n",
    "    selection.load_data()\n",
    "    selection.get_bins_rapidstorm(spacing=(10,10))\n",
    "    sloc1=selection.get_masked_data(l > 0)\n",
    "    sloc=sloc1.select_between(['Amplitude'],[(min_amplitude,None)])\n",
    "    loc=sloc.data\n",
    "    \n",
    "    # calculate AZclusters\n",
    "    AZclusters=sloc.get_cluster(kind='HDBSCAN',min_cluster_size=min_cluster_size_AZ,min_samples=min_samples_AZ)    \n",
    "    AZclusters.fast_analysis(set_data=1)\n",
    "    \n",
    "    # prepare empty list for data of whole file\n",
    "    H_list=[]\n",
    "    \n",
    "    # iterate the first order clusters(AZ clusters)\n",
    "    for j in AZclusters.indices[1:]:\n",
    "        sel = AZclusters.get_group(j)\n",
    "    \n",
    "        alpha_area_AZ = alpha_shape.get_alpha_area(sel.data[['x', 'y']].values, alpha=alpha_AZ)         \n",
    "    \n",
    "        # apply size threshold    \n",
    "        if size_filter==True:\n",
    "            if alpha_area_AZ < 30000 or alpha_area_AZ > 300000:\n",
    "                continue\n",
    "        \n",
    "        locs_per_AZ=sel.data.shape[0]\n",
    "    \n",
    "        if locs_per_AZ >= 8000:\n",
    "            continue\n",
    "        \n",
    "        AZ_dens=locs_per_AZ/alpha_area_AZ\n",
    "    \n",
    "        if AZ_dens >= 0.06:\n",
    "            continue\n",
    "    \n",
    "        pnts=np.zeros((sel.data.shape[0],2))\n",
    "        pnts[:,0]=sel.data.x \n",
    "        pnts[:,1]=sel.data.y \n",
    "\n",
    "        Kest = RipleysKEstimator(area=alpha_area_AZ)\n",
    "\n",
    "        r = np.linspace(0, 120, 121)\n",
    "    \n",
    "        K=Kest(data=pnts,radii=r)\n",
    "        L=np.sqrt(K/math.pi)\n",
    "        H=L-r\n",
    "    \n",
    "        H_list.append(H)\n",
    "    \n",
    "    return H_list"
   ]
  },
  {
   "cell_type": "markdown",
   "metadata": {},
   "source": [
    "### choose functions for analysis of file"
   ]
  },
  {
   "cell_type": "code",
   "execution_count": null,
   "metadata": {
    "scrolled": false
   },
   "outputs": [],
   "source": [
    "print (filename)\n",
    "        \n",
    "show_overview(filename)\n",
    "        \n",
    "subloc=analyze_AZs(filename)\n",
    "loc=pd.concat(subloc)\n",
    "\n",
    "H_list=analyze_AZs_ripley_H(filename)"
   ]
  },
  {
   "cell_type": "markdown",
   "metadata": {},
   "source": [
    "### look at normalized histograms"
   ]
  },
  {
   "cell_type": "code",
   "execution_count": null,
   "metadata": {},
   "outputs": [],
   "source": [
    "# load data\n",
    "sel=Selection(filename=filename)\n",
    "sel.load_data()\n",
    "sel=sel.select_between(['Amplitude'],[(12000,None)])"
   ]
  },
  {
   "cell_type": "code",
   "execution_count": null,
   "metadata": {},
   "outputs": [],
   "source": [
    "fig=plt.figure (figsize=(16,16))\n",
    "# 10 nm pixel binning, saturation with 5 localizations per pixel:\n",
    "plt.hist2d(sel.data.x,sel.data.y,bins=int(sel.data.x.max()/10),cmax=5,cmap=plt.cm.hot) \n",
    "plt.colorbar()\n",
    "ax=plt.gca()\n",
    "ax.set_aspect('equal')\n",
    "ax.invert_yaxis()\n",
    "plt.show()"
   ]
  },
  {
   "cell_type": "markdown",
   "metadata": {},
   "source": [
    "### units: for areas \"nm2\", for density \"localizations per µm2\", for radial distance (rd focom from socom) \"nm\""
   ]
  },
  {
   "cell_type": "markdown",
   "metadata": {},
   "source": [
    "#### group by AZ name and get the mean values for the whole file"
   ]
  },
  {
   "cell_type": "code",
   "execution_count": null,
   "metadata": {},
   "outputs": [],
   "source": [
    "grouped=loc.groupby(['image name','AZ name']).mean()\n",
    "grouped.mean()"
   ]
  },
  {
   "cell_type": "markdown",
   "metadata": {},
   "source": [
    "#### get the values of the individual AZs"
   ]
  },
  {
   "cell_type": "code",
   "execution_count": null,
   "metadata": {},
   "outputs": [],
   "source": [
    "grouped"
   ]
  },
  {
   "cell_type": "markdown",
   "metadata": {},
   "source": [
    "#### mean values for one AZ"
   ]
  },
  {
   "cell_type": "code",
   "execution_count": null,
   "metadata": {},
   "outputs": [],
   "source": [
    "loc[loc['AZ name']==2].mean()"
   ]
  },
  {
   "cell_type": "markdown",
   "metadata": {},
   "source": [
    "#### generate averaged H function"
   ]
  },
  {
   "cell_type": "code",
   "execution_count": null,
   "metadata": {},
   "outputs": [],
   "source": [
    "H_list_avg=sum(H_list)/len(H_list)"
   ]
  },
  {
   "cell_type": "markdown",
   "metadata": {},
   "source": [
    "#### generate K, L and H for poisson distribution"
   ]
  },
  {
   "cell_type": "code",
   "execution_count": null,
   "metadata": {},
   "outputs": [],
   "source": [
    "Kest = RipleysKEstimator(area=300000)\n",
    "r = np.linspace(0, 120, 121)\n",
    "K_poisson=Kest.poisson(r)\n",
    "L_poisson=np.sqrt(K_poisson/math.pi)\n",
    "H_poisson=L_poisson-r"
   ]
  },
  {
   "cell_type": "markdown",
   "metadata": {},
   "source": [
    "#### and plot"
   ]
  },
  {
   "cell_type": "code",
   "execution_count": null,
   "metadata": {},
   "outputs": [],
   "source": [
    "fig = plt.figure(figsize=(6,5))\n",
    "\n",
    "r = np.linspace(0, 120, 121)\n",
    "\n",
    "p1 = plt.plot(r, H_list_avg, c='k')\n",
    "p2 = plt.plot(r, H_poisson,color='g', linestyle='dashed')\n",
    "\n",
    "plt.legend((p1[0], p2[0]), ('AZs', 'poisson distribution'))\n",
    "plt.ylabel('H(r)')\n",
    "plt.xlabel('r [nm]')\n",
    "\n",
    "plt.xlim(0,120)\n",
    "plt.show()"
   ]
  },
  {
   "cell_type": "markdown",
   "metadata": {},
   "source": [
    "### background analysis"
   ]
  },
  {
   "cell_type": "code",
   "execution_count": null,
   "metadata": {},
   "outputs": [],
   "source": [
    "# make scatter plot of whole file\n",
    "sel=Selection(filename=filename)\n",
    "sel.load_data()\n",
    "\n",
    "# in the following set point size and color\n",
    "plt.figure(figsize=(10,10))\n",
    "plt.scatter(sel.data.x,sel.data.y,s=10e-5,c='k')\n",
    "ax=plt.gca()\n",
    "ax.set_aspect('equal')\n",
    "ax.invert_yaxis()"
   ]
  },
  {
   "cell_type": "code",
   "execution_count": null,
   "metadata": {
    "scrolled": false
   },
   "outputs": [],
   "source": [
    "# make small selection of 10000x10000 nm size \n",
    "# to get background analysis window of 100 µm2 size\n",
    "import matplotlib.patches as patches\n",
    "\n",
    "xmin=2000\n",
    "xmax=12000\n",
    "ymin=20000\n",
    "ymax=30000\n",
    "\n",
    "sel2=sel.select_between(['x','y'],[(xmin,xmax),(ymin,ymax)])\n",
    "plt.figure(figsize=(10,10))\n",
    "plt.scatter(sel.data.x,sel.data.y,s=10e-5,c='k')\n",
    "ax=plt.gca()\n",
    "rect=patches.Rectangle((xmin,ymin),width=10000,height=10000,fill=0,color='b')\n",
    "ax.add_patch(rect)\n",
    "ax.set_aspect('equal')\n",
    "ax.invert_yaxis()"
   ]
  },
  {
   "cell_type": "code",
   "execution_count": null,
   "metadata": {},
   "outputs": [],
   "source": [
    "# now calculate localizations per µm2\n",
    "background = sel2.data.shape[0]/100\n",
    "print (background)"
   ]
  }
 ],
 "metadata": {
  "kernelspec": {
   "display_name": "Python 3 (ipykernel)",
   "language": "python",
   "name": "python3"
  },
  "language_info": {
   "codemirror_mode": {
    "name": "ipython",
    "version": 3
   },
   "file_extension": ".py",
   "mimetype": "text/x-python",
   "name": "python",
   "nbconvert_exporter": "python",
   "pygments_lexer": "ipython3",
   "version": "3.9.6"
  }
 },
 "nbformat": 4,
 "nbformat_minor": 4
}
